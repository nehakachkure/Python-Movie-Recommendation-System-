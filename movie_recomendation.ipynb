{
 "cells": [
  {
   "cell_type": "code",
   "execution_count": 3,
   "id": "8b236013-172e-40b3-82bd-78b633840152",
   "metadata": {},
   "outputs": [],
   "source": [
    "# Movie Recommendation System\n",
    "# Using TF-IDF & Cosine Similarity\n",
    "\n",
    "import pandas as pd\n",
    "from sklearn.feature_extraction.text import TfidfVectorizer\n",
    "from sklearn.metrics.pairwise import cosine_similarity\n",
    "import numpy as np"
   ]
  },
  {
   "cell_type": "code",
   "execution_count": 4,
   "id": "9a864bb0-414a-48dd-8049-2a86f9a6cfa5",
   "metadata": {},
   "outputs": [
    {
     "name": "stdout",
     "output_type": "stream",
     "text": [
      "Dataset loaded successfully!\n",
      "                                      title  \\\n",
      "0                                    Avatar   \n",
      "1  Pirates of the Caribbean: At World's End   \n",
      "2                                   Spectre   \n",
      "3                     The Dark Knight Rises   \n",
      "4                               John Carter   \n",
      "\n",
      "                                            overview  \n",
      "0  In the 22nd century, a paraplegic Marine is di...  \n",
      "1  Captain Barbossa, long believed to be dead, ha...  \n",
      "2  A cryptic message from Bond’s past sends him o...  \n",
      "3  Following the death of District Attorney Harve...  \n",
      "4  John Carter is a war-weary, former military ca...  \n"
     ]
    }
   ],
   "source": [
    "\n",
    "movies = pd.read_csv(\"tmdb_5000_movies.csv\")\n",
    "\n",
    "print(\"Dataset loaded successfully!\")\n",
    "print(movies[['title', 'overview']].head())\n"
   ]
  },
  {
   "cell_type": "code",
   "execution_count": 5,
   "id": "d0e55675-54ec-4a9d-9126-67536cc7ac67",
   "metadata": {},
   "outputs": [],
   "source": [
    "movies = movies[['title', 'overview']]\n",
    "movies.dropna(inplace=True)\n"
   ]
  },
  {
   "cell_type": "code",
   "execution_count": 6,
   "id": "5f5aa7de-3b68-4206-860e-41258086336b",
   "metadata": {},
   "outputs": [],
   "source": [
    "tfidf = TfidfVectorizer(stop_words='english')\n",
    "tfidf_matrix = tfidf.fit_transform(movies['overview'])\n"
   ]
  },
  {
   "cell_type": "code",
   "execution_count": 7,
   "id": "ecffbc70-0f04-4c3a-bdab-4ae15325a77b",
   "metadata": {},
   "outputs": [],
   "source": [
    "\n",
    "cosine_sim = cosine_similarity(tfidf_matrix, tfidf_matrix)\n",
    "\n",
    "indices = pd.Series(movies.index, index=movies['title']).drop_duplicates()"
   ]
  },
  {
   "cell_type": "code",
   "execution_count": 8,
   "id": "3b77f876-c69b-4b4a-a959-1561de3258c3",
   "metadata": {},
   "outputs": [],
   "source": [
    "def recommend_movie(title, num_recommendations=5):\n",
    "    if title not in indices:\n",
    "        print(f\"❌ Movie '{title}' not found in dataset.\")\n",
    "        return\n",
    "    \n",
    "    idx = indices[title]\n",
    "    sim_scores = list(enumerate(cosine_sim[idx]))\n",
    "    sim_scores = sorted(sim_scores, key=lambda x: x[1], reverse=True)\n",
    "    sim_scores = sim_scores[1:num_recommendations+1]\n",
    "    \n",
    "    movie_indices = [i[0] for i in sim_scores]\n",
    "    print(f\"\\n🎥 Movies similar to '{title}':\\n\")\n",
    "    for i in movie_indices:\n",
    "        print(f\"👉 {movies.iloc[i]['title']}\")\n",
    "\n"
   ]
  },
  {
   "cell_type": "code",
   "execution_count": 9,
   "id": "2e635162-2fcd-48c1-9c53-b80b9aa917b8",
   "metadata": {},
   "outputs": [
    {
     "name": "stdout",
     "output_type": "stream",
     "text": [
      "\n",
      "===== Movie Recommendation System =====\n",
      "Example titles: Avatar, The Dark Knight Rises, Inception, Tangled\n"
     ]
    },
    {
     "name": "stdin",
     "output_type": "stream",
     "text": [
      "\n",
      "Enter a movie name:  Avatar\n"
     ]
    },
    {
     "name": "stdout",
     "output_type": "stream",
     "text": [
      "\n",
      "🎥 Movies similar to 'Avatar':\n",
      "\n",
      "👉 Apollo 18\n",
      "👉 The American\n",
      "👉 The Matrix\n",
      "👉 The Inhabited Island\n",
      "👉 Tears of the Sun\n"
     ]
    }
   ],
   "source": [
    "if __name__ == \"__main__\":\n",
    "    print(\"\\n===== Movie Recommendation System =====\")\n",
    "    print(\"Example titles: Avatar, The Dark Knight Rises, Inception, Tangled\")\n",
    "    movie_name = input(\"\\nEnter a movie name: \")\n",
    "    recommend_movie(movie_name)"
   ]
  },
  {
   "cell_type": "code",
   "execution_count": null,
   "id": "39371e39-31b4-46a7-a1ab-539ff7d27869",
   "metadata": {},
   "outputs": [],
   "source": []
  }
 ],
 "metadata": {
  "kernelspec": {
   "display_name": "Python 3 (ipykernel)",
   "language": "python",
   "name": "python3"
  },
  "language_info": {
   "codemirror_mode": {
    "name": "ipython",
    "version": 3
   },
   "file_extension": ".py",
   "mimetype": "text/x-python",
   "name": "python",
   "nbconvert_exporter": "python",
   "pygments_lexer": "ipython3",
   "version": "3.13.3"
  }
 },
 "nbformat": 4,
 "nbformat_minor": 5
}
